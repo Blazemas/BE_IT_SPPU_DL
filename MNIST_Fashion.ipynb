{
 "cells": [
  {
   "cell_type": "code",
   "execution_count": 41,
   "metadata": {},
   "outputs": [],
   "source": [
    "import numpy as np\n",
    "import pandas as pd\n",
    "import tensorflow as tf\n",
    "from tensorflow.keras.layers import Dense,Conv2D,MaxPooling2D,Flatten , Dropout\n",
    "from tensorflow.keras.models import Sequential\n",
    "from tensorflow.keras.datasets import fashion_mnist\n",
    "from tensorflow.keras.utils import to_categorical\n",
    "from tensorflow.keras.optimizers import Adam\n",
    "import matplotlib.pyplot as plt\n",
    "# from tensorflow.keras.preprocessing.image import ImageData"
   ]
  },
  {
   "cell_type": "code",
   "execution_count": 42,
   "metadata": {},
   "outputs": [],
   "source": [
    "train = pd.read_csv('Datasets/5 Fashion MNIST/fashion-mnist_train.csv')\n",
    "test = pd.read_csv('Datasets/5 Fashion MNIST/fashion-mnist_test.csv')"
   ]
  },
  {
   "cell_type": "code",
   "execution_count": 43,
   "metadata": {},
   "outputs": [],
   "source": [
    "xtrain = train.iloc[:,1:].values\n",
    "ytrain = train.iloc[:,0].values\n",
    "\n",
    "xtest = test.iloc[:,1:].values\n",
    "ytest = test.iloc[:,0].values\n"
   ]
  },
  {
   "cell_type": "code",
   "execution_count": 44,
   "metadata": {},
   "outputs": [
    {
     "name": "stdout",
     "output_type": "stream",
     "text": [
      "the size of xtrain: (60000, 784)\n",
      "the size of ytrain: (60000,)\n",
      "the size of xtest: (10000, 784)\n",
      "the size of ytest: (10000,)\n"
     ]
    }
   ],
   "source": [
    "print(f\"the size of xtrain: {xtrain.shape}\")\n",
    "print(f\"the size of ytrain: {ytrain.shape}\")\n",
    "print(f\"the size of xtest: {xtest.shape}\")\n",
    "print(f\"the size of ytest: {ytest.shape}\")"
   ]
  },
  {
   "cell_type": "code",
   "execution_count": 45,
   "metadata": {},
   "outputs": [
    {
     "name": "stdout",
     "output_type": "stream",
     "text": [
      "the size of xtrain: (60000, 28, 28, 1)\n",
      "the size of ytrain: (60000,)\n",
      "the size of xtest: (10000, 28, 28, 1)\n",
      "the size of ytest: (10000,)\n"
     ]
    }
   ],
   "source": [
    "#Reshape the Data and normalize it\n",
    "xtrain = xtrain.reshape(-1,28,28,1)\n",
    "xtest = xtest.reshape(-1,28,28,1)\n",
    "\n",
    "xtrain = xtrain / 255.0\n",
    "xtest = xtest / 255.0\n",
    "\n",
    "print(f\"the size of xtrain: {xtrain.shape}\")\n",
    "print(f\"the size of ytrain: {ytrain.shape}\")\n",
    "print(f\"the size of xtest: {xtest.shape}\")\n",
    "print(f\"the size of ytest: {ytest.shape}\")"
   ]
  },
  {
   "cell_type": "code",
   "execution_count": 46,
   "metadata": {},
   "outputs": [],
   "source": [
    "ytrain = to_categorical(ytrain, num_classes=10)  # Adjust the number of classes as needed\n",
    "ytest = to_categorical(ytest, num_classes=10)"
   ]
  },
  {
   "cell_type": "code",
   "execution_count": 47,
   "metadata": {},
   "outputs": [],
   "source": [
    "model = Sequential([\n",
    "\n",
    "    Conv2D(32,(3,3),activation='relu',input_shape=(28,28,1)),\n",
    "    MaxPooling2D((2,2)),\n",
    "\n",
    "    Conv2D(64,(3,3),activation='relu'),\n",
    "    MaxPooling2D((2,2)),\n",
    "\n",
    "    Flatten(),\n",
    "\n",
    "    #Fully Connected Dense layer\n",
    "    Dense(128,activation='relu'),\n",
    "    Dropout(0.5),   #Dropout for regularization\n",
    "\n",
    "    Dense(10,activation='softmax'),\n",
    "    Dropout(0.5)\n",
    "])"
   ]
  },
  {
   "cell_type": "code",
   "execution_count": 48,
   "metadata": {},
   "outputs": [],
   "source": [
    "#compile the model\n",
    "model.compile(optimizer='adam', loss='categorical_crossentropy', metrics=['accuracy'])"
   ]
  },
  {
   "cell_type": "code",
   "execution_count": 49,
   "metadata": {},
   "outputs": [
    {
     "name": "stdout",
     "output_type": "stream",
     "text": [
      "Epoch 1/10\n",
      "750/750 [==============================] - 26s 34ms/step - loss: nan - accuracy: 0.4154 - val_loss: 0.4836 - val_accuracy: 0.8244\n",
      "Epoch 2/10\n",
      "750/750 [==============================] - 24s 33ms/step - loss: nan - accuracy: 0.4455 - val_loss: 0.4124 - val_accuracy: 0.8504\n",
      "Epoch 3/10\n",
      "750/750 [==============================] - 23s 31ms/step - loss: nan - accuracy: 0.4467 - val_loss: 0.3774 - val_accuracy: 0.8615\n",
      "Epoch 4/10\n",
      "750/750 [==============================] - 23s 31ms/step - loss: nan - accuracy: 0.4562 - val_loss: 0.3502 - val_accuracy: 0.8691\n",
      "Epoch 5/10\n",
      "750/750 [==============================] - 23s 31ms/step - loss: nan - accuracy: 0.4573 - val_loss: 0.3305 - val_accuracy: 0.8835\n",
      "Epoch 6/10\n",
      "750/750 [==============================] - 23s 31ms/step - loss: nan - accuracy: 0.4613 - val_loss: 0.3373 - val_accuracy: 0.8770\n",
      "Epoch 7/10\n",
      "750/750 [==============================] - 24s 31ms/step - loss: nan - accuracy: 0.4629 - val_loss: 0.3134 - val_accuracy: 0.8857\n",
      "Epoch 8/10\n",
      "750/750 [==============================] - 24s 32ms/step - loss: nan - accuracy: 0.4639 - val_loss: 0.3017 - val_accuracy: 0.8882\n",
      "Epoch 9/10\n",
      "750/750 [==============================] - 24s 32ms/step - loss: nan - accuracy: 0.4676 - val_loss: 0.2896 - val_accuracy: 0.8969\n",
      "Epoch 10/10\n",
      "750/750 [==============================] - 23s 31ms/step - loss: nan - accuracy: 0.4657 - val_loss: 0.2788 - val_accuracy: 0.8990\n"
     ]
    },
    {
     "data": {
      "text/plain": [
       "<keras.src.callbacks.History at 0x1bc7c8a4590>"
      ]
     },
     "execution_count": 49,
     "metadata": {},
     "output_type": "execute_result"
    }
   ],
   "source": [
    "# train the model\n",
    "model.fit(xtrain,ytrain,epochs=10,batch_size=64,validation_split=0.2)\n"
   ]
  },
  {
   "cell_type": "code",
   "execution_count": 51,
   "metadata": {},
   "outputs": [
    {
     "name": "stdout",
     "output_type": "stream",
     "text": [
      "Test Accuracy: 0.9017\n"
     ]
    }
   ],
   "source": [
    "# Evaluate the model on the test set\n",
    "test_loss, test_accuracy = model.evaluate(xtest, ytest, verbose=0)\n",
    "print(f\"Test Accuracy: {test_accuracy:.4f}\")"
   ]
  },
  {
   "cell_type": "code",
   "execution_count": null,
   "metadata": {},
   "outputs": [],
   "source": []
  }
 ],
 "metadata": {
  "kernelspec": {
   "display_name": "Python 3",
   "language": "python",
   "name": "python3"
  },
  "language_info": {
   "codemirror_mode": {
    "name": "ipython",
    "version": 3
   },
   "file_extension": ".py",
   "mimetype": "text/x-python",
   "name": "python",
   "nbconvert_exporter": "python",
   "pygments_lexer": "ipython3",
   "version": "3.11.4"
  }
 },
 "nbformat": 4,
 "nbformat_minor": 2
}
